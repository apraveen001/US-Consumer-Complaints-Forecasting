{
 "cells": [
  {
   "cell_type": "markdown",
   "id": "f2fc7f36",
   "metadata": {},
   "source": []
  },
  {
   "cell_type": "markdown",
   "id": "e1d34bed",
   "metadata": {},
   "source": []
  }
 ],
 "metadata": {
  "language_info": {
   "name": "python"
  }
 },
 "nbformat": 4,
 "nbformat_minor": 5
}
